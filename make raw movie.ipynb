{
 "cells": [
  {
   "cell_type": "code",
   "execution_count": 1,
   "metadata": {},
   "outputs": [],
   "source": [
    "import os, sys\n",
    "import warnings\n",
    "warnings.filterwarnings('ignore')\n",
    "import numpy as np \n",
    "import matplotlib.pyplot as plt\n",
    "%matplotlib inline\n",
    "# from skimage.external import tifffile\n",
    "import time\n",
    "# import glob, os\n",
    "import os\n",
    "from glob import glob\n",
    "import scipy.stats as stats\n",
    "import pandas as pd\n",
    "import dask.array as da\n",
    "\n",
    "# import pyqtgraph as pg\n",
    "import tifffile as tf\n",
    "\n",
    "sys.path.append('/groups/ahrens/home/chenw2/code/zfish/')\n",
    "from zfish.util import filesys as fs\n",
    "\n",
    "%matplotlib inline\n",
    "%load_ext autoreload\n",
    "%autoreload 2"
   ]
  },
  {
   "cell_type": "markdown",
   "metadata": {},
   "source": [
    "## Variables for brain map and cell segments"
   ]
  },
  {
   "cell_type": "code",
   "execution_count": 2,
   "metadata": {},
   "outputs": [
    {
     "name": "stdout",
     "output_type": "stream",
     "text": [
      "/nrs/ahrens/Weiyu_nrs/20230915_15mMglucose_L_f5/exp0/imag/20230915_15mMglucose_L_f5_20230915_162731/\n"
     ]
    }
   ],
   "source": [
    "nrs_dir = '/nrs/ahrens/Weiyu_nrs/'\n",
    "\n",
    "# expID = '20230719_15mMglucose_spinal_f11/'\n",
    "expID = '20230719_15mMglucose_spinal_f10/'\n",
    "expID = '20230901_15mMglucose_spinal_f12/'\n",
    "expID = '20230908_15mMglucose_spinal_f14/'\n",
    "expID = '20230908_15mMglucose_spinal_f16/'\n",
    "expID = '20230914_15mMglucose_L_f1/'\n",
    "expID = '20230914_15mMglucose_L_f2/'\n",
    "expID = '20230915_15mMglucose_L_f3/'\n",
    "expID = '20230915_15mMglucose_L_f4/'\n",
    "expID = '20230915_15mMglucose_L_f5/'\n",
    "\n",
    "\n",
    "\n",
    "base_dir = nrs_dir + expID\n",
    "\n",
    "experiment = 'exp0/'\n",
    "\n",
    "exp = experiment[3]\n",
    "folder_name = base_dir + experiment\n",
    "dirs = fs.get_subfolders(folder_name)\n",
    "\n",
    "# raw image folder\n",
    "imag_folder = sorted(glob(dirs['imag'] + '*'))[0] + '/' \n",
    "# aligned image folder\n",
    "# imag_folder = sorted(glob(dirs['mika'] + 'volumes'))[0]+ '/0/' \n",
    "\n",
    "path = '/groups/ahrens/home/chenw2/code/zfish/zfish/scripts'\n",
    "make_raw_mov = '/00_make_raw_movie_cluster.py'\n",
    "\n",
    "print(imag_folder)"
   ]
  },
  {
   "cell_type": "code",
   "execution_count": 3,
   "metadata": {},
   "outputs": [
    {
     "name": "stdout",
     "output_type": "stream",
     "text": [
      "fps 0.9\n",
      "\n",
      "original dataset shape: (909, 151, 1024, 2048)\n"
     ]
    }
   ],
   "source": [
    "from zfish.image import zds\n",
    "dset = zds.ZDS(imag_folder)\n",
    "fps = dset.metadata['volume_rate']\n",
    "print('fps', fps)\n",
    "print('\\noriginal dataset shape: {}'.format(dset.data.shape))"
   ]
  },
  {
   "cell_type": "code",
   "execution_count": 4,
   "metadata": {
    "jupyter": {
     "outputs_hidden": true
    }
   },
   "outputs": [],
   "source": [
    "# import h5py\n",
    "# # h5FilePath='/nrs/ahrens/Weiyu_nrs/test/exp0/mika/volumes/0/TM0000000_CM0_CHN00_aligned.hdf5'\n",
    "# h5FilePath='/nrs/ahrens/Weiyu_nrs/test/exp0/imag/test_20230421_105708/TM0000000_CM0_CHN00.h5'\n",
    "\n",
    "\n",
    "# with h5py.File(h5FilePath, 'r') as f:\n",
    "#     print(list(f.keys()))\n",
    "\n",
    "\n",
    "# h5f = h5py.File(h5FilePath,'r')\n",
    "# # volStack = h5f.get('volume')\n",
    "# volStack = h5f.get('default')\n",
    "# volStack = np.array(volStack)\n",
    "# plt.imshow(volStack.max(axis=0))"
   ]
  },
  {
   "cell_type": "code",
   "execution_count": 5,
   "metadata": {},
   "outputs": [
    {
     "name": "stdout",
     "output_type": "stream",
     "text": [
      "/nrs/ahrens/Weiyu_nrs/20230915_15mMglucose_L_f5/\n",
      "processing experiment number: 0\n",
      "1\n",
      "processing /nrs/ahrens/Weiyu_nrs/20230915_15mMglucose_L_f5/exp0/imag/20230915_15mMglucose_L_f5_20230915_162731/\n",
      "saving to: /nrs/ahrens/Weiyu_nrs/20230915_15mMglucose_L_f5/exp0/raw/\n",
      "downsampling in t, z, x/y by: 1, 2, 4\n",
      "fps: 0.9\n",
      "\n",
      "original dataset shape: (909, 151, 1024, 2048)\n",
      "data type of data: <class 'dask.array.core.Array'>\n",
      "Size of data: 415.44140625 GB\n",
      "Size of data_txf: 830.8828125 GB\n",
      "Size of data_ds: 51.93017578125 GB\n",
      "Size of x: 103.86 GB\n",
      "data computed!\n",
      "/groups/ahrens/home/chenw2/anaconda3/lib/python3.7/site-packages/tifffile/tifffile.py:2805: UserWarning: TiffWriter: truncating ImageJ file\n",
      "  'TiffWriter: truncating ImageJ file', UserWarning\n",
      "data saved to: /nrs/ahrens/Weiyu_nrs/20230915_15mMglucose_L_f5/exp0/raw/data_ds4_dst1_dz2.tif\n",
      "data saved!\n",
      "data saved to: /nrs/ahrens/Weiyu_nrs/20230915_15mMglucose_L_f5/exp0/raw/data_ds4_dst1_dz2_anat.tif\n",
      "saved data\n",
      "saved movie\n"
     ]
    }
   ],
   "source": [
    "# !python $path$make_raw_movie_PC  $base_dir $exp \n",
    "!python $path$make_raw_mov  $base_dir $exp $1 $26 $143\n",
    "\n",
    " \n",
    "# !python $path$make_raw_mov  $base_dir $exp $1 \n",
    "# !python $path$make_raw_mov  $base_dir $exp $1\n",
    "# !python $path$make_raw_mov  $base_dir $exp $1\n",
    "# !python $path$ephys_ana  $base_dir $exp \n",
    "# !python $path$anat  $base_dir $exp\n",
    "# !python $path$segment  $base_dir $exp\n",
    "# !python $path$reg  $base_dir $exp\n",
    "# !python $path$check_reg  $base_dir $exp\n",
    "# !python $path$extract_rois  $base_dir $exp\n",
    "# !python $path$compute_rois_dff  $base_dir $exp\n",
    "# !python $path$compute_rastermap  $base_dir $exp\n",
    "# !python $path$select_rois  $base_dir $exp 'vagus'"
   ]
  },
  {
   "cell_type": "code",
   "execution_count": null,
   "metadata": {},
   "outputs": [],
   "source": []
  }
 ],
 "metadata": {
  "kernelspec": {
   "display_name": "Python 3",
   "language": "python",
   "name": "python3"
  },
  "language_info": {
   "codemirror_mode": {
    "name": "ipython",
    "version": 3
   },
   "file_extension": ".py",
   "mimetype": "text/x-python",
   "name": "python",
   "nbconvert_exporter": "python",
   "pygments_lexer": "ipython3",
   "version": "3.7.0"
  }
 },
 "nbformat": 4,
 "nbformat_minor": 4
}
